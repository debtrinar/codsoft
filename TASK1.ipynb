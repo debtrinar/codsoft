{
 "cells": [
  {
   "cell_type": "code",
   "execution_count": 7,
   "id": "ee0b6b16-466f-4cfe-90f9-ddb52effdd02",
   "metadata": {},
   "outputs": [
    {
     "name": "stdin",
     "output_type": "stream",
     "text": [
      "Enter the First Number: 34\n",
      "Enter the Second Number: 0\n"
     ]
    },
    {
     "name": "stdout",
     "output_type": "stream",
     "text": [
      "Select from the following:\n",
      "1.Addition\n",
      "2.Subtraction\n",
      "3.Multiplication\n",
      "4.Division\n"
     ]
    },
    {
     "name": "stdin",
     "output_type": "stream",
     "text": [
      "Enter your choice: 4\n"
     ]
    },
    {
     "name": "stdout",
     "output_type": "stream",
     "text": [
      "Zero Division Error\n",
      "34.0 / 0.0 = None\n"
     ]
    }
   ],
   "source": [
    "#TASK 1\n",
    "#Design a simple calculator with basic arithmetic operations. Prompt the user to input two numbers and an operation choice.\n",
    "#Perform the calculation and display the result.\n",
    "a = float(input(\"Enter the First Number:\"))\n",
    "b = float(input(\"Enter the Second Number:\"))\n",
    "print(\"Select from the following:\")\n",
    "print(\"1.Addition\")\n",
    "print(\"2.Subtraction\")\n",
    "print(\"3.Multiplication\")\n",
    "print(\"4.Division\")\n",
    "x=int(input(\"Enter your choice:\"))\n",
    "def add(a,b):\n",
    "    return a+b\n",
    "def sub(a,b):\n",
    "    return a-b\n",
    "def mul(a,b):\n",
    "    return a*b\n",
    "def div(a,b):\n",
    "    try:\n",
    "        return a/b\n",
    "    except:\n",
    "        print(\"Zero Division Error\")\n",
    "    \n",
    "\n",
    "if x==1:\n",
    "    print(f\"{a} + {b} = {add(a,b)}\")\n",
    "elif x==2:\n",
    "    print(f\"{a} - {b} = {sub(a,b)}\")\n",
    "elif x==3:\n",
    "    print(f\"{a} * {b} = {mul(a,b)}\")\n",
    "elif x==4:\n",
    "    print(f\"{a} / {b} = {div(a,b)}\")\n",
    "else:\n",
    "    print(\"Invalid Input... Please try again!!\")"
   ]
  },
  {
   "cell_type": "code",
   "execution_count": null,
   "id": "8518b23c-ab7f-4641-ad07-4a4233a54689",
   "metadata": {},
   "outputs": [],
   "source": []
  },
  {
   "cell_type": "code",
   "execution_count": null,
   "id": "17916300-3593-4a5a-8061-e5163e8b6136",
   "metadata": {},
   "outputs": [],
   "source": []
  }
 ],
 "metadata": {
  "kernelspec": {
   "display_name": "Python 3 (ipykernel)",
   "language": "python",
   "name": "python3"
  },
  "language_info": {
   "codemirror_mode": {
    "name": "ipython",
    "version": 3
   },
   "file_extension": ".py",
   "mimetype": "text/x-python",
   "name": "python",
   "nbconvert_exporter": "python",
   "pygments_lexer": "ipython3",
   "version": "3.12.3"
  }
 },
 "nbformat": 4,
 "nbformat_minor": 5
}
