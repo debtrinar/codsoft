{
 "cells": [
  {
   "cell_type": "code",
   "execution_count": 7,
   "id": "e7af32a5-d3a8-477e-830d-d75a74d4ae5b",
   "metadata": {},
   "outputs": [
    {
     "name": "stdout",
     "output_type": "stream",
     "text": [
      "This is the following instructions that you have to follow for the ROCK PAPER and SCISSOR game:\n",
      "1. You have to choose any one of the options from the ROCK PAPER and SCISSOR\n",
      "2. SCISSOR beats the PAPER\n",
      "3. ROCK beats the SCISSOR\n",
      "4. PAPER beats the ROCK\n",
      "5. If both the parties select the same option then it's a TIE !!\n",
      "6. If you WIN then you gain 1 point!!\n",
      "\n",
      "\n",
      "Let's start the game!!\n",
      "\n",
      "\n",
      "1. ROCK\n",
      "2. PAPER\n",
      "3. SCISSOR\n"
     ]
    },
    {
     "name": "stdin",
     "output_type": "stream",
     "text": [
      "Enter your choice: 1\n"
     ]
    },
    {
     "name": "stdout",
     "output_type": "stream",
     "text": [
      "\n",
      "\n",
      "The Player Throws: ROCK\n",
      "The Computer Throws: PAPER\n",
      "THE COMPUTER WINS!!\n",
      "\n",
      "\n",
      "Do you want to play again?\n",
      "1. YES\n",
      "2. NO\n"
     ]
    },
    {
     "name": "stdin",
     "output_type": "stream",
     "text": [
      "Enter your choice: 1\n"
     ]
    },
    {
     "name": "stdout",
     "output_type": "stream",
     "text": [
      "\n",
      "\n",
      "1. ROCK\n",
      "2. PAPER\n",
      "3. SCISSOR\n"
     ]
    },
    {
     "name": "stdin",
     "output_type": "stream",
     "text": [
      "Enter your choice: 2\n"
     ]
    },
    {
     "name": "stdout",
     "output_type": "stream",
     "text": [
      "\n",
      "\n",
      "The Player Throws: PAPER\n",
      "The Computer Throws: ROCK\n",
      "YOU WIN!!\n",
      "\n",
      "\n",
      "Do you want to play again?\n",
      "1. YES\n",
      "2. NO\n"
     ]
    },
    {
     "name": "stdin",
     "output_type": "stream",
     "text": [
      "Enter your choice: 2\n"
     ]
    }
   ],
   "source": [
    "#TASK 3\n",
    "#User Input: Prompt the user to choose rock, paper, or scissors.\n",
    "#Computer Selection: Generate a random choice (rock, paper, or scissors) for the computer.\n",
    "#Game Logic: Determine the winner based on the user's choice and the computer's choice.\n",
    "#Rock beats scissors, scissors beat paper, and paper beats rock.\n",
    "#Display Result: Show the user's choice and the computer's choice. Display the result, whether the user wins, loses, or it's a tie.\n",
    "#Score Tracking (Optional): Keep track of the user's and computer's scores for multiple rounds.\n",
    "#Play Again: Ask the user if they want to play another round.\n",
    "#User Interface: Design a user-friendly interface with clear instructions and feedback.\n",
    "\n",
    "import random\n",
    "\n",
    "print(\"This is the following instructions that you have to follow for the ROCK PAPER and SCISSOR game:\")\n",
    "print(\"1. You have to choose any one of the options from the ROCK PAPER and SCISSOR\")\n",
    "print(\"2. SCISSOR beats the PAPER\")\n",
    "print(\"3. ROCK beats the SCISSOR\")\n",
    "print(\"4. PAPER beats the ROCK\")\n",
    "print(\"5. If both the parties select the same option then it's a TIE !!\")\n",
    "print(\"6. If you WIN then you gain 1 point!!\")\n",
    "\n",
    "print(\"\\n\")\n",
    "print(\"Let's start the game!!\")\n",
    "while True:\n",
    "    print(\"\\n\")\n",
    "    print(\"1. ROCK\")\n",
    "    print(\"2. PAPER\")\n",
    "    print(\"3. SCISSOR\")\n",
    "    select = int(input(\"Enter your choice:\"))\n",
    "\n",
    "    if select ==1:\n",
    "        player_throw = \"ROCK\"\n",
    "    elif select == 2:\n",
    "        player_throw = \"PAPER\"\n",
    "    elif select == 3:\n",
    "        player_throw = \"SCISSOR\"\n",
    "    else:\n",
    "        print(\"Invalid Input!!\")\n",
    "\n",
    "    print(\"\\n\")\n",
    "    print(\"The Player Throws:\", player_throw)\n",
    "\n",
    "    throws = [\"ROCK\", \"PAPER\", \"SCISSOR\"]\n",
    "    comp_throws = random.choice(throws)\n",
    "\n",
    "    print(\"The Computer Throws:\", comp_throws)\n",
    "    if (player_throw == comp_throws):\n",
    "        print(\"TIE !!\")\n",
    "        \n",
    "    elif(player_throw ==  \"ROCK\"):\n",
    "        if (comp_throws == \"PAPER\"):\n",
    "            print(\"THE COMPUTER WINS!!\")\n",
    "        elif(comp_throws == \"SCISSOR\"):\n",
    "            print(\"YOU WIN!!\")\n",
    "            \n",
    "    elif(player_throw == \"PAPER\"):\n",
    "        if(comp_throws == \"SCISSOR\"):\n",
    "            print(\"THE COMPUTER WINS!!\")\n",
    "        elif(comp_throws == \"ROCK\"):\n",
    "            print(\"YOU WIN!!\")\n",
    "\n",
    "    elif(player_throw == \"SCISSOR\"):\n",
    "        if(comp_throws == \"ROCK\"):\n",
    "            print(\"The COMPUTER WINS!!\")\n",
    "        elif(comp_throws == \"PAPER\"):\n",
    "            print(\"YOU WIN!!\")\n",
    "\n",
    "    print(\"\\n\")\n",
    "    print(\"Do you want to play again?\")\n",
    "    print(\"1. YES\")\n",
    "    print(\"2. NO\")\n",
    "    x = int(input(\"Enter your choice:\"))\n",
    "\n",
    "    if x == 2:\n",
    "        break\n",
    "        \n",
    "    "
   ]
  },
  {
   "cell_type": "code",
   "execution_count": null,
   "id": "00b9dde7-1d55-4042-b273-6bb3f639b6d3",
   "metadata": {},
   "outputs": [],
   "source": []
  }
 ],
 "metadata": {
  "kernelspec": {
   "display_name": "Python 3 (ipykernel)",
   "language": "python",
   "name": "python3"
  },
  "language_info": {
   "codemirror_mode": {
    "name": "ipython",
    "version": 3
   },
   "file_extension": ".py",
   "mimetype": "text/x-python",
   "name": "python",
   "nbconvert_exporter": "python",
   "pygments_lexer": "ipython3",
   "version": "3.12.3"
  }
 },
 "nbformat": 4,
 "nbformat_minor": 5
}
