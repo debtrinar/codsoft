{
 "cells": [
  {
   "cell_type": "code",
   "execution_count": 9,
   "id": "9208054e-5767-4138-a81e-ed754f29e5a8",
   "metadata": {},
   "outputs": [
    {
     "name": "stdout",
     "output_type": "stream",
     "text": [
      "Hello User! Welcome to the PASSWORD GENERATOR\n"
     ]
    },
    {
     "name": "stdin",
     "output_type": "stream",
     "text": [
      "Enter the desired length of the password that you want:  45\n"
     ]
    },
    {
     "name": "stdout",
     "output_type": "stream",
     "text": [
      "This is the Generated password: *!C]'c,xXKOXLZ(@+:v314o!}=Ixq`^EiPEPO3aOA#6as\n"
     ]
    }
   ],
   "source": [
    "import string\n",
    "import random\n",
    "\n",
    "print(\"Hello User! Welcome to the PASSWORD GENERATOR\")\n",
    "def gen_pass(length):\n",
    "    if length < 8:\n",
    "        print(\"Password length must be at least 8\")\n",
    "        return \"\"\n",
    "        \n",
    "    lower = string.ascii_lowercase\n",
    "    upper = string.ascii_uppercase\n",
    "    digits = string.digits\n",
    "    symb = string.punctuation\n",
    "    password = [random.choice(lower), random.choice(upper), random.choice(digits), random.choice(symb)]\n",
    "    comb = lower + upper + digits + symb \n",
    "    password += random.choices(comb, k=length - 4)\n",
    "    random.shuffle(password)\n",
    "    password = ''.join(password) \n",
    "    return password\n",
    "\n",
    "def func():\n",
    "    try:\n",
    "        length = int(input(\"Enter the desired length of the password that you want: \"))\n",
    "        password = gen_pass(length)\n",
    "        if password:\n",
    "            print(\"This is the Generated password:\", password)\n",
    "    except ValueError:\n",
    "        print(\"Invalid input!! Please enter a valid integer...\")\n",
    "\n",
    "if __name__ == \"__main__\":\n",
    "    func()"
   ]
  },
  {
   "cell_type": "code",
   "execution_count": null,
   "id": "261f0d84-67fc-4b21-b9df-5f15cf4cfc72",
   "metadata": {},
   "outputs": [],
   "source": []
  }
 ],
 "metadata": {
  "kernelspec": {
   "display_name": "Python 3 (ipykernel)",
   "language": "python",
   "name": "python3"
  },
  "language_info": {
   "codemirror_mode": {
    "name": "ipython",
    "version": 3
   },
   "file_extension": ".py",
   "mimetype": "text/x-python",
   "name": "python",
   "nbconvert_exporter": "python",
   "pygments_lexer": "ipython3",
   "version": "3.12.3"
  }
 },
 "nbformat": 4,
 "nbformat_minor": 5
}
